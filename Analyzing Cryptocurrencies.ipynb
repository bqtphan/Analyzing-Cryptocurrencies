{
 "cells": [
  {
   "cell_type": "markdown",
   "id": "db7a3157",
   "metadata": {},
   "source": [
    "# Analyzing Cryptocurrencies Data Analysis\n",
    " By Brian Phan"
   ]
  },
  {
   "cell_type": "markdown",
   "id": "1dd6c281",
   "metadata": {},
   "source": [
    "## Introduction\n",
    "\n",
    "In this report, I will be analyzing the performance of Bitcoin (BTC), Ethereum (ETH), and Litecoin (LTE) in relation to each other. The reason I chose these 4 to examine is based on history, market capitalization, and personal investments. I will be reviewing specifically the following topics:\n",
    "\n",
    "- Price to USD\n",
    "- 5 and 30 day Return on Investment\n",
    "- The current supply of crypto units\n",
    "\n",
    "Data was gathered as CSVs from coinmetrics.io. on 05/14/2021.\n"
   ]
  },
  {
   "cell_type": "markdown",
   "id": "e87b7442",
   "metadata": {},
   "source": [
    "## Data Wrangling"
   ]
  },
  {
   "cell_type": "code",
   "execution_count": 10,
   "id": "ce7135c8",
   "metadata": {},
   "outputs": [],
   "source": [
    "#Importing libraries\n",
    "import numpy as np\n",
    "import pandas as pd\n",
    "import matplotlib.pyplot as plt\n",
    "%matplotlib inline\n",
    "plt.style.use('ggplot')\n",
    "%matplotlib widget"
   ]
  },
  {
   "cell_type": "code",
   "execution_count": 2,
   "id": "7cabd959",
   "metadata": {},
   "outputs": [
    {
     "data": {
      "text/html": [
       "<div>\n",
       "<style scoped>\n",
       "    .dataframe tbody tr th:only-of-type {\n",
       "        vertical-align: middle;\n",
       "    }\n",
       "\n",
       "    .dataframe tbody tr th {\n",
       "        vertical-align: top;\n",
       "    }\n",
       "\n",
       "    .dataframe thead th {\n",
       "        text-align: right;\n",
       "    }\n",
       "</style>\n",
       "<table border=\"1\" class=\"dataframe\">\n",
       "  <thead>\n",
       "    <tr style=\"text-align: right;\">\n",
       "      <th></th>\n",
       "      <th>date</th>\n",
       "      <th>AdrActCnt</th>\n",
       "      <th>AdrBal1in100KCnt</th>\n",
       "      <th>AdrBal1in100MCnt</th>\n",
       "      <th>AdrBal1in10BCnt</th>\n",
       "      <th>AdrBal1in10KCnt</th>\n",
       "      <th>AdrBal1in10MCnt</th>\n",
       "      <th>AdrBal1in1BCnt</th>\n",
       "      <th>AdrBal1in1KCnt</th>\n",
       "      <th>AdrBal1in1MCnt</th>\n",
       "      <th>...</th>\n",
       "      <th>TxTfrCnt</th>\n",
       "      <th>TxTfrValAdjNtv</th>\n",
       "      <th>TxTfrValAdjUSD</th>\n",
       "      <th>TxTfrValMeanNtv</th>\n",
       "      <th>TxTfrValMeanUSD</th>\n",
       "      <th>TxTfrValMedNtv</th>\n",
       "      <th>TxTfrValMedUSD</th>\n",
       "      <th>VelCur1yr</th>\n",
       "      <th>VtyDayRet180d</th>\n",
       "      <th>VtyDayRet30d</th>\n",
       "    </tr>\n",
       "  </thead>\n",
       "  <tbody>\n",
       "    <tr>\n",
       "      <th>0</th>\n",
       "      <td>2009-01-03</td>\n",
       "      <td>0</td>\n",
       "      <td>0</td>\n",
       "      <td>0</td>\n",
       "      <td>0</td>\n",
       "      <td>0</td>\n",
       "      <td>0</td>\n",
       "      <td>0</td>\n",
       "      <td>0</td>\n",
       "      <td>0</td>\n",
       "      <td>...</td>\n",
       "      <td>0</td>\n",
       "      <td>0.0</td>\n",
       "      <td>NaN</td>\n",
       "      <td>NaN</td>\n",
       "      <td>NaN</td>\n",
       "      <td>NaN</td>\n",
       "      <td>NaN</td>\n",
       "      <td>NaN</td>\n",
       "      <td>NaN</td>\n",
       "      <td>NaN</td>\n",
       "    </tr>\n",
       "    <tr>\n",
       "      <th>1</th>\n",
       "      <td>2009-01-04</td>\n",
       "      <td>0</td>\n",
       "      <td>0</td>\n",
       "      <td>0</td>\n",
       "      <td>0</td>\n",
       "      <td>0</td>\n",
       "      <td>0</td>\n",
       "      <td>0</td>\n",
       "      <td>0</td>\n",
       "      <td>0</td>\n",
       "      <td>...</td>\n",
       "      <td>0</td>\n",
       "      <td>0.0</td>\n",
       "      <td>NaN</td>\n",
       "      <td>NaN</td>\n",
       "      <td>NaN</td>\n",
       "      <td>NaN</td>\n",
       "      <td>NaN</td>\n",
       "      <td>NaN</td>\n",
       "      <td>NaN</td>\n",
       "      <td>NaN</td>\n",
       "    </tr>\n",
       "    <tr>\n",
       "      <th>2</th>\n",
       "      <td>2009-01-05</td>\n",
       "      <td>0</td>\n",
       "      <td>0</td>\n",
       "      <td>0</td>\n",
       "      <td>0</td>\n",
       "      <td>0</td>\n",
       "      <td>0</td>\n",
       "      <td>0</td>\n",
       "      <td>0</td>\n",
       "      <td>0</td>\n",
       "      <td>...</td>\n",
       "      <td>0</td>\n",
       "      <td>0.0</td>\n",
       "      <td>NaN</td>\n",
       "      <td>NaN</td>\n",
       "      <td>NaN</td>\n",
       "      <td>NaN</td>\n",
       "      <td>NaN</td>\n",
       "      <td>NaN</td>\n",
       "      <td>NaN</td>\n",
       "      <td>NaN</td>\n",
       "    </tr>\n",
       "    <tr>\n",
       "      <th>3</th>\n",
       "      <td>2009-01-06</td>\n",
       "      <td>0</td>\n",
       "      <td>0</td>\n",
       "      <td>0</td>\n",
       "      <td>0</td>\n",
       "      <td>0</td>\n",
       "      <td>0</td>\n",
       "      <td>0</td>\n",
       "      <td>0</td>\n",
       "      <td>0</td>\n",
       "      <td>...</td>\n",
       "      <td>0</td>\n",
       "      <td>0.0</td>\n",
       "      <td>NaN</td>\n",
       "      <td>NaN</td>\n",
       "      <td>NaN</td>\n",
       "      <td>NaN</td>\n",
       "      <td>NaN</td>\n",
       "      <td>NaN</td>\n",
       "      <td>NaN</td>\n",
       "      <td>NaN</td>\n",
       "    </tr>\n",
       "    <tr>\n",
       "      <th>4</th>\n",
       "      <td>2009-01-07</td>\n",
       "      <td>0</td>\n",
       "      <td>0</td>\n",
       "      <td>0</td>\n",
       "      <td>0</td>\n",
       "      <td>0</td>\n",
       "      <td>0</td>\n",
       "      <td>0</td>\n",
       "      <td>0</td>\n",
       "      <td>0</td>\n",
       "      <td>...</td>\n",
       "      <td>0</td>\n",
       "      <td>0.0</td>\n",
       "      <td>NaN</td>\n",
       "      <td>NaN</td>\n",
       "      <td>NaN</td>\n",
       "      <td>NaN</td>\n",
       "      <td>NaN</td>\n",
       "      <td>NaN</td>\n",
       "      <td>NaN</td>\n",
       "      <td>NaN</td>\n",
       "    </tr>\n",
       "  </tbody>\n",
       "</table>\n",
       "<p>5 rows × 140 columns</p>\n",
       "</div>"
      ],
      "text/plain": [
       "         date  AdrActCnt  AdrBal1in100KCnt  AdrBal1in100MCnt  AdrBal1in10BCnt  \\\n",
       "0  2009-01-03          0                 0                 0                0   \n",
       "1  2009-01-04          0                 0                 0                0   \n",
       "2  2009-01-05          0                 0                 0                0   \n",
       "3  2009-01-06          0                 0                 0                0   \n",
       "4  2009-01-07          0                 0                 0                0   \n",
       "\n",
       "   AdrBal1in10KCnt  AdrBal1in10MCnt  AdrBal1in1BCnt  AdrBal1in1KCnt  \\\n",
       "0                0                0               0               0   \n",
       "1                0                0               0               0   \n",
       "2                0                0               0               0   \n",
       "3                0                0               0               0   \n",
       "4                0                0               0               0   \n",
       "\n",
       "   AdrBal1in1MCnt  ...  TxTfrCnt  TxTfrValAdjNtv  TxTfrValAdjUSD  \\\n",
       "0               0  ...         0             0.0             NaN   \n",
       "1               0  ...         0             0.0             NaN   \n",
       "2               0  ...         0             0.0             NaN   \n",
       "3               0  ...         0             0.0             NaN   \n",
       "4               0  ...         0             0.0             NaN   \n",
       "\n",
       "   TxTfrValMeanNtv  TxTfrValMeanUSD  TxTfrValMedNtv  TxTfrValMedUSD  \\\n",
       "0              NaN              NaN             NaN             NaN   \n",
       "1              NaN              NaN             NaN             NaN   \n",
       "2              NaN              NaN             NaN             NaN   \n",
       "3              NaN              NaN             NaN             NaN   \n",
       "4              NaN              NaN             NaN             NaN   \n",
       "\n",
       "   VelCur1yr  VtyDayRet180d  VtyDayRet30d  \n",
       "0        NaN            NaN           NaN  \n",
       "1        NaN            NaN           NaN  \n",
       "2        NaN            NaN           NaN  \n",
       "3        NaN            NaN           NaN  \n",
       "4        NaN            NaN           NaN  \n",
       "\n",
       "[5 rows x 140 columns]"
      ]
     },
     "execution_count": 2,
     "metadata": {},
     "output_type": "execute_result"
    }
   ],
   "source": [
    "#Importing each CSV into DataFrames\n",
    "btc = pd.read_csv('D:\\Desktop\\Analyzing Crypto\\Datasets\\BTC.csv')\n",
    "eth = pd.read_csv('D:\\Desktop\\Analyzing Crypto\\Datasets\\ETH.csv')\n",
    "ltc = pd.read_csv('D:\\Desktop\\Analyzing Crypto\\Datasets\\LTC.csv')\n",
    "btc.head()"
   ]
  },
  {
   "cell_type": "markdown",
   "id": "17b63d06",
   "metadata": {},
   "source": [
    "### Cleaning and Assessing Data"
   ]
  },
  {
   "cell_type": "markdown",
   "id": "73d0c4cf",
   "metadata": {},
   "source": [
    "These files have a lot of extra columns and rows, so we will need to clean up the data to those that we need. We also want to keep the data recent from 2018. Specifically, the columns we will keep are:\n",
    "\n",
    "- PriceUSD: The fixed closing price of the asset denominated in USD\n",
    "- SplyCur: Suppy, current"
   ]
  },
  {
   "cell_type": "code",
   "execution_count": 3,
   "id": "9675fcd2",
   "metadata": {},
   "outputs": [
    {
     "data": {
      "text/html": [
       "<div>\n",
       "<style scoped>\n",
       "    .dataframe tbody tr th:only-of-type {\n",
       "        vertical-align: middle;\n",
       "    }\n",
       "\n",
       "    .dataframe tbody tr th {\n",
       "        vertical-align: top;\n",
       "    }\n",
       "\n",
       "    .dataframe thead th {\n",
       "        text-align: right;\n",
       "    }\n",
       "</style>\n",
       "<table border=\"1\" class=\"dataframe\">\n",
       "  <thead>\n",
       "    <tr style=\"text-align: right;\">\n",
       "      <th></th>\n",
       "      <th>PriceUSD</th>\n",
       "      <th>SplyCur</th>\n",
       "    </tr>\n",
       "    <tr>\n",
       "      <th>date</th>\n",
       "      <th></th>\n",
       "      <th></th>\n",
       "    </tr>\n",
       "  </thead>\n",
       "  <tbody>\n",
       "    <tr>\n",
       "      <th>2018-01-01</th>\n",
       "      <td>13464.653612</td>\n",
       "      <td>1.677635e+07</td>\n",
       "    </tr>\n",
       "    <tr>\n",
       "      <th>2018-01-02</th>\n",
       "      <td>14754.322205</td>\n",
       "      <td>1.677849e+07</td>\n",
       "    </tr>\n",
       "    <tr>\n",
       "      <th>2018-01-03</th>\n",
       "      <td>15010.286160</td>\n",
       "      <td>1.678045e+07</td>\n",
       "    </tr>\n",
       "    <tr>\n",
       "      <th>2018-01-04</th>\n",
       "      <td>15070.300799</td>\n",
       "      <td>1.678255e+07</td>\n",
       "    </tr>\n",
       "    <tr>\n",
       "      <th>2018-01-05</th>\n",
       "      <td>16997.227408</td>\n",
       "      <td>1.678434e+07</td>\n",
       "    </tr>\n",
       "  </tbody>\n",
       "</table>\n",
       "</div>"
      ],
      "text/plain": [
       "                PriceUSD       SplyCur\n",
       "date                                  \n",
       "2018-01-01  13464.653612  1.677635e+07\n",
       "2018-01-02  14754.322205  1.677849e+07\n",
       "2018-01-03  15010.286160  1.678045e+07\n",
       "2018-01-04  15070.300799  1.678255e+07\n",
       "2018-01-05  16997.227408  1.678434e+07"
      ]
     },
     "execution_count": 3,
     "metadata": {},
     "output_type": "execute_result"
    }
   ],
   "source": [
    "# Selecting only the columns we need. Easier to filter than to drop since there's so many columns.\n",
    "btc_filter = btc[['date','PriceUSD','SplyCur']]\n",
    "btc_clean = btc_filter[btc_filter['date'] > '2018']\n",
    "btc_clean = btc_clean.set_index('date')\n",
    "btc_clean.head()"
   ]
  },
  {
   "cell_type": "code",
   "execution_count": 4,
   "id": "2e5fff03",
   "metadata": {
    "scrolled": true
   },
   "outputs": [
    {
     "data": {
      "text/html": [
       "<div>\n",
       "<style scoped>\n",
       "    .dataframe tbody tr th:only-of-type {\n",
       "        vertical-align: middle;\n",
       "    }\n",
       "\n",
       "    .dataframe tbody tr th {\n",
       "        vertical-align: top;\n",
       "    }\n",
       "\n",
       "    .dataframe thead th {\n",
       "        text-align: right;\n",
       "    }\n",
       "</style>\n",
       "<table border=\"1\" class=\"dataframe\">\n",
       "  <thead>\n",
       "    <tr style=\"text-align: right;\">\n",
       "      <th></th>\n",
       "      <th>PriceUSD</th>\n",
       "      <th>SplyCur</th>\n",
       "    </tr>\n",
       "    <tr>\n",
       "      <th>date</th>\n",
       "      <th></th>\n",
       "      <th></th>\n",
       "    </tr>\n",
       "  </thead>\n",
       "  <tbody>\n",
       "    <tr>\n",
       "      <th>2018-01-01</th>\n",
       "      <td>756.071766</td>\n",
       "      <td>9.671286e+07</td>\n",
       "    </tr>\n",
       "    <tr>\n",
       "      <th>2018-01-02</th>\n",
       "      <td>863.918308</td>\n",
       "      <td>9.673342e+07</td>\n",
       "    </tr>\n",
       "    <tr>\n",
       "      <th>2018-01-03</th>\n",
       "      <td>943.648126</td>\n",
       "      <td>9.675402e+07</td>\n",
       "    </tr>\n",
       "    <tr>\n",
       "      <th>2018-01-04</th>\n",
       "      <td>952.354544</td>\n",
       "      <td>9.677498e+07</td>\n",
       "    </tr>\n",
       "    <tr>\n",
       "      <th>2018-01-05</th>\n",
       "      <td>958.552846</td>\n",
       "      <td>9.679590e+07</td>\n",
       "    </tr>\n",
       "  </tbody>\n",
       "</table>\n",
       "</div>"
      ],
      "text/plain": [
       "              PriceUSD       SplyCur\n",
       "date                                \n",
       "2018-01-01  756.071766  9.671286e+07\n",
       "2018-01-02  863.918308  9.673342e+07\n",
       "2018-01-03  943.648126  9.675402e+07\n",
       "2018-01-04  952.354544  9.677498e+07\n",
       "2018-01-05  958.552846  9.679590e+07"
      ]
     },
     "execution_count": 4,
     "metadata": {},
     "output_type": "execute_result"
    }
   ],
   "source": [
    "# Looks much better. We'll do the rest now:\n",
    "eth_filter = eth[['date','PriceUSD','SplyCur']]\n",
    "eth_clean = eth_filter[eth_filter['date'] > '2018']\n",
    "eth_clean = eth_clean.set_index('date')\n",
    "\n",
    "ltc_filter = ltc[['date','PriceUSD','SplyCur']]\n",
    "ltc_clean = ltc_filter[ltc_filter['date'] > '2018']\n",
    "ltc_clean = ltc_clean.set_index('date')\n",
    "\n",
    "eth_clean.head()"
   ]
  },
  {
   "cell_type": "markdown",
   "id": "afb5442f",
   "metadata": {},
   "source": [
    "## Data Analysis"
   ]
  },
  {
   "cell_type": "markdown",
   "id": "0f05400d",
   "metadata": {},
   "source": [
    "Let's plot the price of the crypto currencies since 2018:"
   ]
  },
  {
   "cell_type": "code",
   "execution_count": 5,
   "id": "cdb4f353",
   "metadata": {},
   "outputs": [
    {
     "data": {
      "application/vnd.jupyter.widget-view+json": {
       "model_id": "2bff3c04598d4556afdd8713e465cbf3",
       "version_major": 2,
       "version_minor": 0
      },
      "text/plain": [
       "Canvas(toolbar=Toolbar(toolitems=[('Home', 'Reset original view', 'home', 'home'), ('Back', 'Back to previous …"
      ]
     },
     "metadata": {},
     "output_type": "display_data"
    }
   ],
   "source": [
    "fig1, ax1 = plt.subplots(3,1, figsize = (12,15))\n",
    "ax1[0].plot(btc_clean['PriceUSD'],linewidth=1)\n",
    "ax1[0].set_ylabel('Price ($)')\n",
    "ax1[0].set_xlabel('Date')\n",
    "ax1[0].set_xticks(['2018-01-01','2019-01-01','2020-01-01','2021-01-01'])\n",
    "ax1[0].set_xticklabels(['2018','2019','2020','2021'])\n",
    "ax1[0].set_title('Bitcoin Price')\n",
    "\n",
    "ax1[1].plot(ltc_clean['PriceUSD'],linewidth=1)\n",
    "ax1[1].set_ylabel('Price ($)')\n",
    "ax1[1].set_xlabel('Date')\n",
    "ax1[1].set_xticks(['2018-01-01','2019-01-01','2020-01-01','2021-01-01'])\n",
    "ax1[1].set_xticklabels(['2018','2019','2020','2021'])\n",
    "ax1[1].set_title('Litecoin Price')\n",
    "\n",
    "ax1[2].plot(eth_clean['PriceUSD'],linewidth=1)\n",
    "ax1[2].set_ylabel('Price ($)')\n",
    "ax1[2].set_xlabel('Date')\n",
    "ax1[2].set_xticks(['2018-01-01','2019-01-01','2020-01-01','2021-01-01'])\n",
    "ax1[2].set_xticklabels(['2018','2019','2020','2021'])\n",
    "ax1[2].set_title('Etherum Price')\n",
    "\n",
    "fig1.tight_layout()\n",
    "plt.show()"
   ]
  },
  {
   "cell_type": "markdown",
   "id": "d3e6c9c7",
   "metadata": {},
   "source": [
    "The plot shows that buying and holding Bitcoin and Etherum before 2021 would give you massive returns, but not so much with Litecoin, depending on when you bought it. What would the performance be for someone who was an active trader in crypto currencies? Let's see what the Return on Investment is when an asset is bought and held 5 and 30 days prior. Let's plot that:"
   ]
  },
  {
   "cell_type": "code",
   "execution_count": 6,
   "id": "8d42acaa",
   "metadata": {},
   "outputs": [
    {
     "data": {
      "application/vnd.jupyter.widget-view+json": {
       "model_id": "d40df6182810440ca56d5185fab74717",
       "version_major": 2,
       "version_minor": 0
      },
      "text/plain": [
       "Canvas(toolbar=Toolbar(toolitems=[('Home', 'Reset original view', 'home', 'home'), ('Back', 'Back to previous …"
      ]
     },
     "metadata": {},
     "output_type": "display_data"
    }
   ],
   "source": [
    "#Calculating the BTC ROI for 5 and 30 days:\n",
    "BTC_ROI_5d = ((btc_clean.PriceUSD - btc_clean.PriceUSD.shift(5))/ btc_clean.PriceUSD.shift(5)) * 100\n",
    "BTC_ROI_30d = ((btc_clean.PriceUSD - btc_clean.PriceUSD.shift(30))/ btc_clean.PriceUSD.shift(30)) * 100\n",
    "\n",
    "fig2, ax2 = plt.subplots(2,1, figsize = (12,10))\n",
    "ax2[0].plot(BTC_ROI_5d, linewidth=1)\n",
    "ax2[0].set_ylabel('ROI (%)')\n",
    "ax2[0].set_xlabel('Date')\n",
    "ax2[0].set_xticks(['2018-01-01','2019-01-01','2020-01-01','2021-01-01'])\n",
    "ax2[0].set_xticklabels(['2018','2019','2020','2021'])\n",
    "ax2[0].set_title('ROI %: 5 Day Hold')\n",
    "\n",
    "ax2[1].plot(BTC_ROI_30d, linewidth=1)\n",
    "ax2[1].set_ylabel('ROI (%)')\n",
    "ax2[1].set_xlabel('Date')\n",
    "ax2[1].set_xticks(['2018-01-01','2019-01-01','2020-01-01','2021-01-01'])\n",
    "ax2[1].set_xticklabels(['2018','2019','2020','2021'])\n",
    "ax2[1].set_title('ROI %: 30 Day Hold')\n",
    "\n",
    "fig2.tight_layout()\n",
    "plt.show()"
   ]
  },
  {
   "cell_type": "code",
   "execution_count": 7,
   "id": "a02cd93f",
   "metadata": {},
   "outputs": [
    {
     "data": {
      "application/vnd.jupyter.widget-view+json": {
       "model_id": "b0aff3ef279a4790988c512a86a50895",
       "version_major": 2,
       "version_minor": 0
      },
      "text/plain": [
       "Canvas(toolbar=Toolbar(toolitems=[('Home', 'Reset original view', 'home', 'home'), ('Back', 'Back to previous …"
      ]
     },
     "metadata": {},
     "output_type": "display_data"
    }
   ],
   "source": [
    "#Calculating the LTC ROI for 5 and 30 days:\n",
    "LTC_ROI_5d = ((ltc_clean.PriceUSD - ltc_clean.PriceUSD.shift(5))/ ltc_clean.PriceUSD.shift(5)) * 100\n",
    "LTC_ROI_30d = ((ltc_clean.PriceUSD - ltc_clean.PriceUSD.shift(30))/ ltc_clean.PriceUSD.shift(30)) * 100\n",
    "\n",
    "fig3, ax3 = plt.subplots(2,1, figsize = (12,10))\n",
    "ax3[0].plot(LTC_ROI_5d, linewidth=1)\n",
    "ax3[0].set_ylabel('ROI (%)')\n",
    "ax3[0].set_xlabel('Date')\n",
    "ax3[0].set_xticks(['2018-01-01','2019-01-01','2020-01-01','2021-01-01'])\n",
    "ax3[0].set_xticklabels(['2018','2019','2020','2021'])\n",
    "ax3[0].set_title('ROI %: 5 Day Hold')\n",
    "\n",
    "ax3[1].plot(LTC_ROI_30d, linewidth=1)\n",
    "ax3[1].set_ylabel('ROI (%)')\n",
    "ax3[1].set_xlabel('Date')\n",
    "ax3[1].set_xticks(['2018-01-01','2019-01-01','2020-01-01','2021-01-01'])\n",
    "ax3[1].set_xticklabels(['2018','2019','2020','2021'])\n",
    "ax3[1].set_title('ROI %: 30 Day Hold')\n",
    "\n",
    "fig3.tight_layout()\n",
    "plt.show()"
   ]
  },
  {
   "cell_type": "code",
   "execution_count": 8,
   "id": "eaa48028",
   "metadata": {},
   "outputs": [
    {
     "data": {
      "application/vnd.jupyter.widget-view+json": {
       "model_id": "e4151bc6dddf4a60baf9784ebef7c4bf",
       "version_major": 2,
       "version_minor": 0
      },
      "text/plain": [
       "Canvas(toolbar=Toolbar(toolitems=[('Home', 'Reset original view', 'home', 'home'), ('Back', 'Back to previous …"
      ]
     },
     "metadata": {},
     "output_type": "display_data"
    }
   ],
   "source": [
    "#Calculating the ETH ROI for 5 and 30 days:\n",
    "ETH_ROI_5d = ((eth_clean.PriceUSD - eth_clean.PriceUSD.shift(5))/ eth_clean.PriceUSD.shift(5)) * 100\n",
    "ETH_ROI_30d = ((eth_clean.PriceUSD - eth_clean.PriceUSD.shift(30))/ eth_clean.PriceUSD.shift(30)) * 100\n",
    "\n",
    "fig4, ax4 = plt.subplots(2,1, figsize = (12,10))\n",
    "ax4[0].plot(ETH_ROI_5d, linewidth=1)\n",
    "ax4[0].set_ylabel('ROI (%)')\n",
    "ax4[0].set_xlabel('Date')\n",
    "ax4[0].set_xticks(['2018-01-01','2019-01-01','2020-01-01','2021-01-01'])\n",
    "ax4[0].set_xticklabels(['2018','2019','2020','2021'])\n",
    "ax4[0].set_title('ROI %: 5 Day Hold')\n",
    "\n",
    "ax4[1].plot(ETH_ROI_30d, linewidth=1)\n",
    "ax4[1].set_ylabel('ROI (%)')\n",
    "ax4[1].set_xlabel('Date')\n",
    "ax4[1].set_xticks(['2018-01-01','2019-01-01','2020-01-01','2021-01-01'])\n",
    "ax4[1].set_xticklabels(['2018','2019','2020','2021'])\n",
    "ax4[1].set_title('ROI %: 30 Day Hold')\n",
    "\n",
    "fig4.tight_layout()\n",
    "plt.show()"
   ]
  },
  {
   "cell_type": "code",
   "execution_count": 12,
   "id": "5da03a10",
   "metadata": {},
   "outputs": [
    {
     "data": {
      "text/plain": [
       "count    1224.000000\n",
       "mean        0.929424\n",
       "std         8.947923\n",
       "min       -44.266775\n",
       "25%        -3.687037\n",
       "50%         0.644126\n",
       "75%         5.597096\n",
       "max        31.476195\n",
       "Name: PriceUSD, dtype: float64"
      ]
     },
     "execution_count": 12,
     "metadata": {},
     "output_type": "execute_result"
    }
   ],
   "source": [
    "BTC_ROI_5d.describe()"
   ]
  },
  {
   "cell_type": "code",
   "execution_count": 13,
   "id": "1229e384",
   "metadata": {},
   "outputs": [
    {
     "data": {
      "text/plain": [
       "count    1199.000000\n",
       "mean        6.548252\n",
       "std        24.514513\n",
       "min       -59.952601\n",
       "25%        -8.717774\n",
       "50%         3.119083\n",
       "75%        22.699715\n",
       "max       120.666959\n",
       "Name: PriceUSD, dtype: float64"
      ]
     },
     "execution_count": 13,
     "metadata": {},
     "output_type": "execute_result"
    }
   ],
   "source": [
    "BTC_ROI_30d.describe()"
   ]
  },
  {
   "cell_type": "markdown",
   "id": "908c9617",
   "metadata": {},
   "source": [
    "Based on the plots and statistical data, there is massive volatility in these cryptocurrencies. While one may not make any profit when buying and holding Litecoin above $150, there was a lot of money to be made actively trading Litecoin, with many occurances of an ROI above 50% between 2018 and 2021. However, the large gains from the high ROIs are countered by many days of large negative ROIs, although for BTC and ETH, they are smaller and fewer in comparision to the gains.\n",
    "\n",
    "Next, let's examine the supply of the cryptocurrencies versus their prices:\n"
   ]
  },
  {
   "cell_type": "code",
   "execution_count": 28,
   "id": "2986e943",
   "metadata": {},
   "outputs": [
    {
     "data": {
      "application/vnd.jupyter.widget-view+json": {
       "model_id": "ffbe1aeafe9c4e11a46e13e5a4f06bb7",
       "version_major": 2,
       "version_minor": 0
      },
      "text/plain": [
       "Canvas(toolbar=Toolbar(toolitems=[('Home', 'Reset original view', 'home', 'home'), ('Back', 'Back to previous …"
      ]
     },
     "metadata": {},
     "output_type": "display_data"
    }
   ],
   "source": [
    "fig5, (ax5, ax6, ax7) = plt.subplots(3,1, figsize = (10,15))\n",
    "ax5.plot(btc['date'],btc['SplyCur'],linewidth=1)\n",
    "ax51 = ax5.twinx()\n",
    "ax51.plot(btc['date'],btc['PriceUSD'],linewidth=1)\n",
    "ax5.set_ylabel('Current Supply in Ten Millions')\n",
    "ax51.set_ylabel('Price ($)')\n",
    "ax5.set_xlabel('Date')\n",
    "ax5.set_xticks(['2011-01-01','2013-01-01','2015-01-01','2017-01-01','2019-01-01','2021-01-01'])\n",
    "ax5.set_xticklabels(['2011','2013','2015','2017','2019','2021'])\n",
    "ax5.set_title('Bitcoin Supply')\n",
    "\n",
    "ax6.plot(ltc['date'],ltc['SplyCur'],linewidth=1)\n",
    "ax61 = ax6.twinx()\n",
    "ax61.plot(ltc['date'],ltc['PriceUSD'],linewidth=1)\n",
    "ax6.set_ylabel('Current Supply in Ten Millions')\n",
    "ax61.set_ylabel('Price ($)')\n",
    "ax6.set_xlabel('Date')\n",
    "ax6.set_xticks(['2013-01-01','2015-01-01','2017-01-01','2019-01-01','2021-01-01'])\n",
    "ax6.set_xticklabels(['2013','2015','2017','2019','2021'])\n",
    "ax6.set_title('Litecoin Supply')\n",
    "\n",
    "ax7.plot(eth['date'],eth['SplyCur'],linewidth=1)\n",
    "ax71 = ax7.twinx()\n",
    "ax71.plot(eth['date'],eth['PriceUSD'],linewidth=1)\n",
    "ax7.set_ylabel('Current Supply in Hundred Millions')\n",
    "ax71.set_ylabel('Price ($)')\n",
    "ax7.set_xlabel('Date')\n",
    "ax7.set_xticks(['2016-01-01','2017-01-01','2018-01-01','2019-01-01','2020-01-01','2021-01-01'])\n",
    "ax7.set_xticklabels(['2016','2017','2018','2019','2020','2021'])\n",
    "ax7.set_title('Etherum Supply')\n",
    "\n",
    "fig5.tight_layout()\n",
    "plt.show()"
   ]
  },
  {
   "cell_type": "markdown",
   "id": "4ba067d5",
   "metadata": {},
   "source": [
    "Bitcoin has a maximum of supply of 21 million, Litecoin has a maximum supply of 84 million, and Etherum does not have a cap on its supply. It appears that its is becoming slightly more difficult to mine for new Bitcoin and Litecoin, shown by the flatting slope of their plots, whereas the slope on the Ethereum plot has decreased slightly. While scarcity of a precious commodity tends to increase value, the unlimited supply of Ethereum does not appear to slow down it's value."
   ]
  },
  {
   "cell_type": "code",
   "execution_count": null,
   "id": "e14fe751",
   "metadata": {},
   "outputs": [],
   "source": [
    "# SETTING UP, I DONT KNOW WHAT THIS PURPOSE IS YET...\n",
    "btc_2021 = btc_clean[btc_clean['date'] > '2021']\n",
    "plt.plot(btc_2021['date'],btc_2021['PriceUSD'], linewidth=1)\n",
    "plt.xticks(['2021-01-01','2021-02-01','2021-03-01','2021-04-01', '2021-05-01'],['Jan','Feb','Mar','Apr','May'])\n",
    "plt.show()\n"
   ]
  },
  {
   "cell_type": "markdown",
   "id": "06b7b256",
   "metadata": {},
   "source": [
    "## Conclusions"
   ]
  },
  {
   "cell_type": "code",
   "execution_count": null,
   "id": "f986d16a",
   "metadata": {},
   "outputs": [],
   "source": []
  }
 ],
 "metadata": {
  "kernelspec": {
   "display_name": "Python 3",
   "language": "python",
   "name": "python3"
  },
  "language_info": {
   "codemirror_mode": {
    "name": "ipython",
    "version": 3
   },
   "file_extension": ".py",
   "mimetype": "text/x-python",
   "name": "python",
   "nbconvert_exporter": "python",
   "pygments_lexer": "ipython3",
   "version": "3.9.1"
  }
 },
 "nbformat": 4,
 "nbformat_minor": 5
}
